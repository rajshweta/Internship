{
 "cells": [
  {
   "cell_type": "code",
   "execution_count": 3,
   "id": "9f6a8b15",
   "metadata": {},
   "outputs": [
    {
     "name": "stdout",
     "output_type": "stream",
     "text": [
      "Enter a number to find factorial: 5\n",
      "\n",
      " The factorial is  120\n"
     ]
    }
   ],
   "source": [
    "num=int(input(\"Enter a number to find factorial: \"))\n",
    "fact=1\n",
    "\n",
    "while(num>0):\n",
    "    fact=fact*num\n",
    "    num-=1\n",
    "\n",
    "print(\"\\n The factorial is \",fact)"
   ]
  },
  {
   "cell_type": "code",
   "execution_count": 4,
   "id": "076fdc58",
   "metadata": {},
   "outputs": [
    {
     "name": "stdout",
     "output_type": "stream",
     "text": [
      "Enter a number: 11\n",
      "11  is a prime number\n"
     ]
    }
   ],
   "source": [
    "num=int(input(\"Enter a number: \"))\n",
    "num1=num-1\n",
    "\n",
    "if(num==0 or num==1):\n",
    "    print(num,\" is neither prime nor composite\")\n",
    "else:\n",
    "    while(num1>1):\n",
    "        if(num%num1==0):\n",
    "            print(num,\" is a composite number\")\n",
    "            break\n",
    "        num1-=1\n",
    "    else:\n",
    "        print(num,\" is a prime number\")"
   ]
  },
  {
   "cell_type": "code",
   "execution_count": 5,
   "id": "0474d906",
   "metadata": {},
   "outputs": [
    {
     "name": "stdout",
     "output_type": "stream",
     "text": [
      "Enter a string: shweta\n",
      "\n",
      "It's not a paindrome\n"
     ]
    }
   ],
   "source": [
    "word=input(\"Enter a string: \")\n",
    "if(word==word[::-1]):\n",
    "    print(\"\\sHw's a palindrome\")\n",
    "else:\n",
    "    print(\"\\sHw's not a paindrome\")"
   ]
  },
  {
   "cell_type": "code",
   "execution_count": null,
   "id": "37058b48",
   "metadata": {},
   "outputs": [],
   "source": [
    "import math as m"
   ]
  },
  {
   "cell_type": "code",
   "execution_count": null,
   "id": "d7e6918c",
   "metadata": {},
   "outputs": [],
   "source": [
    "word=input(\"Enter a string: \")\n",
    "if(word==word[::-1]):\n",
    "    print(\"\\nIt's a palindrome\")\n",
    "else:\n",
    "    print(\"\\nIt's not a paindrome\")"
   ]
  },
  {
   "cell_type": "code",
   "execution_count": 7,
   "id": "f9e33e31",
   "metadata": {},
   "outputs": [
    {
     "name": "stdout",
     "output_type": "stream",
     "text": [
      "Enter a string: worksheet done\n",
      "\n",
      "Frequency of each character :\n",
      "  {'h': 1, 't': 1, 'k': 1, 'e': 3, 's': 1, ' ': 1, 'o': 2, 'd': 1, 'w': 1, 'r': 1, 'n': 1}\n"
     ]
    }
   ],
   "source": [
    "word = input(\"Enter a string: \")\n",
    "freq={}\n",
    "for i in set(word):\n",
    "    freq[i]=word.count(i)\n",
    "print(\"\\nFrequency of each character :\\n \",freq)"
   ]
  }
 ],
 "metadata": {
  "kernelspec": {
   "display_name": "Python 3 (ipykernel)",
   "language": "python",
   "name": "python3"
  },
  "language_info": {
   "codemirror_mode": {
    "name": "ipython",
    "version": 3
   },
   "file_extension": ".py",
   "mimetype": "text/x-python",
   "name": "python",
   "nbconvert_exporter": "python",
   "pygments_lexer": "ipython3",
   "version": "3.9.12"
  }
 },
 "nbformat": 4,
 "nbformat_minor": 5
}
